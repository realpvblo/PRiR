{
  "nbformat": 4,
  "nbformat_minor": 0,
  "metadata": {
    "colab": {
      "provenance": []
    },
    "kernelspec": {
      "name": "python3",
      "display_name": "Python 3"
    },
    "language_info": {
      "name": "python"
    },
    "accelerator": "GPU",
    "gpuClass": "standard"
  },
  "cells": [
    {
      "cell_type": "markdown",
      "source": [
        "Paweł Waszkiewicz 82677\n",
        "**Zadanie 1**"
      ],
      "metadata": {
        "id": "n1XAAczGxnED"
      }
    },
    {
      "cell_type": "code",
      "execution_count": 2,
      "metadata": {
        "colab": {
          "base_uri": "https://localhost:8080/"
        },
        "id": "wTWhKgSJeDfG",
        "outputId": "62f416b3-b50d-488d-abc1-e6d643483ff1"
      },
      "outputs": [
        {
          "output_type": "stream",
          "name": "stdout",
          "text": [
            "Wartość pi dla 100000 punktów na CPU: 3.141279935836792\n",
            "Wartość pi dla 100000 punktów na GPU: 3.145599842071533\n"
          ]
        }
      ],
      "source": [
        "import torch\n",
        "import matplotlib.pyplot as plt\n",
        "\n",
        "# funkcja obliczająca pole okręgu z wykorzystaniem algorytmu Monte Carlo\n",
        "def monte_carlo_pi(n_samples, device):\n",
        "    x = torch.rand(n_samples, 2, device=device) # losujemy punkty x, y z zakresu [0,1]\n",
        "    dist = x.norm(dim=1) # obliczamy odległości punktów od środka układu współrzędnych\n",
        "    inside = (dist <= 1).sum().to(torch.float32) # liczymy ilość punktów wewnątrz okręgu\n",
        "    pi = (inside / n_samples) * 4 # obliczamy wartość pi\n",
        "    return pi\n",
        "\n",
        "# przykład użycia funkcji na CPU\n",
        "n_samples = 100000\n",
        "device = 'cpu'\n",
        "pi_cpu = monte_carlo_pi(n_samples, device)\n",
        "print(f'Wartość pi dla {n_samples} punktów na CPU: {pi_cpu}')\n",
        "\n",
        "# przykład użycia funkcji na GPU\n",
        "device = 'cuda'\n",
        "pi_gpu = monte_carlo_pi(n_samples, device)\n",
        "print(f'Wartość pi dla {n_samples} punktów na GPU: {pi_gpu}')\n"
      ]
    },
    {
      "cell_type": "code",
      "source": [
        "import time\n",
        "\n",
        "n_samples_range = [1000, 10000, 100000, 1000000]\n",
        "times_cpu = []\n",
        "times_gpu = []\n",
        "\n",
        "for n_samples in n_samples_range:\n",
        "    start_time = time.time()\n",
        "    monte_carlo_pi(n_samples, 'cpu')\n",
        "    end_time = time.time()\n",
        "    times_cpu.append(end_time - start_time)\n",
        "\n",
        "    start_time = time.time()\n",
        "    monte_carlo_pi(n_samples, 'cuda')\n",
        "    end_time = time.time()\n",
        "    times_gpu.append(end_time - start_time)\n",
        "\n",
        "plt.plot(n_samples_range, times_cpu, label='CPU')\n",
        "plt.plot(n_samples_range, times_gpu, label='GPU')\n",
        "plt.xscale('log')\n",
        "plt.xlabel(\"Liczba losowanych punktów\")\n",
        "plt.ylabel(\"Czas [s]\")\n",
        "plt.legend()\n",
        "plt.show()\n",
        "\n"
      ],
      "metadata": {
        "colab": {
          "base_uri": "https://localhost:8080/",
          "height": 284
        },
        "id": "UWaWgItffggS",
        "outputId": "ab707023-ef59-44d1-a0d9-d1469e030802"
      },
      "execution_count": 3,
      "outputs": [
        {
          "output_type": "display_data",
          "data": {
            "text/plain": [
              "<Figure size 432x288 with 1 Axes>"
            ],
            "image/png": "[encoded data removed]"
          },
          "metadata": {
            "needs_background": "light"
          }
        }
      ]
    }
  ]
}