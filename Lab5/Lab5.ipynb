{
  "nbformat": 4,
  "nbformat_minor": 0,
  "metadata": {
    "colab": {
      "provenance": []
    },
    "kernelspec": {
      "name": "python3",
      "display_name": "Python 3"
    },
    "language_info": {
      "name": "python"
    }
  },
  "cells": [
    {
      "cell_type": "code",
      "execution_count": null,
      "metadata": {
        "id": "kHs7bizPRsa1"
      },
      "outputs": [],
      "source": [
        "!nvcc --version\n",
        "!pip install git+https://github.com/andreinechaev/nvcc4jupyter.git\n",
        "%load_ext nvcc_plugin\n",
        "!sudo apt install libopenmpi-dev\n",
        "!pip install mpi4py"
      ]
    },
    {
      "cell_type": "code",
      "source": [
        "%%sh\n",
        "cat > pi-mpi.c << EOF\n",
        "#include <mpi.h>\n",
        "#include <stdio.h>\n",
        "#include <time.h>\n",
        " \n",
        "\n",
        "// funkcja potęgująca bo funkcja w math.h pow nie działa \n",
        "\n",
        "double potegowanie(double a , int b )\n",
        "{\n",
        "      double result=1.0;\n",
        "      for (int i = 1; i <= b; i++)\n",
        "      {\n",
        "          result *= a;\n",
        "      }\n",
        "      return result; \n",
        "}\n",
        "\n",
        "int main(int argc, char **argv)\n",
        "{\n",
        "    int numer_procesu;\n",
        "    int liczba_procesow;\n",
        "    int tag = 1;\n",
        "    MPI_Status status;\n",
        "    MPI_Init(&argc, &argv);\n",
        "    MPI_Comm_rank(MPI_COMM_WORLD, &numer_procesu);\n",
        "    MPI_Comm_size(MPI_COMM_WORLD, &liczba_procesow);\n",
        "    clock_t t;\n",
        "    double time_taken;\n",
        "\n",
        "    if(numer_procesu == 0)\n",
        "    {\n",
        "      double lpi = 0 ,x = 0,total_time =0,t=0;\n",
        "\n",
        "      for(int i=1; i<liczba_procesow; i++)\n",
        "      {\n",
        "        MPI_Recv(&x, 1, MPI_DOUBLE, i, tag, MPI_COMM_WORLD, &status);\n",
        "        lpi +=x;\n",
        "        MPI_Recv(&t, 1, MPI_DOUBLE, i, tag, MPI_COMM_WORLD, &status);\n",
        "        total_time+=t;\n",
        "      }\n",
        "      printf(\"Wartosc liczby pi = %f \\n\", 4 * lpi);\n",
        "      printf(\"Total time taken = %f \\n\", total_time);\n",
        "    }\n",
        "\n",
        "    if(numer_procesu != 0)\n",
        "    {\n",
        "      t = clock();\n",
        "      double x = potegowanie( -1, numer_procesu - 1) / ( 2 * numer_procesu - 1); \n",
        "      printf(\"Wynik procesu %d = %f \\t\" , numer_procesu , x);\n",
        "      MPI_Send(&x, 1, MPI_DOUBLE, 0, tag, MPI_COMM_WORLD);\n",
        "      t = clock() - t;\n",
        "      time_taken = ((double)t)/CLOCKS_PER_SEC;\n",
        "      MPI_Send(&time_taken, 1, MPI_DOUBLE, 0, tag, MPI_COMM_WORLD);\n",
        "      printf(\"Czas wykonywania sie procesu nr %d = %f\\n\",numer_procesu,time_taken);\n",
        "    }\n",
        "    MPI_Finalize();\n",
        "}\n",
        "EOF\n",
        "mpicc pi-mpi.c && mpirun -n 1 --allow-run-as-root a.out"
      ],
      "metadata": {
        "colab": {
          "base_uri": "https://localhost:8080/"
        },
        "id": "3ZhFGpWRRuaB",
        "outputId": "1c258d38-67ef-43e2-a51a-04785860c143"
      },
      "execution_count": 2,
      "outputs": [
        {
          "output_type": "stream",
          "name": "stdout",
          "text": [
            "Wartosc liczby pi = 0.000000 \n",
            "Total time taken = 0.000000 \n"
          ]
        }
      ]
    }
  ]
}