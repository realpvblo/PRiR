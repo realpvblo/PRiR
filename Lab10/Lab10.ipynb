{
  "nbformat": 4,
  "nbformat_minor": 0,
  "metadata": {
    "colab": {
      "provenance": []
    },
    "kernelspec": {
      "name": "python3",
      "display_name": "Python 3"
    },
    "language_info": {
      "name": "python"
    },
    "accelerator": "TPU",
    "gpuClass": "standard"
  },
  "cells": [
    {
      "cell_type": "code",
      "execution_count": null,
      "metadata": {
        "id": "KxKn1ltQre0F"
      },
      "outputs": [],
      "source": [
        "!nvcc --version\n",
        "!pip install git+https://github.com/andreinechaev/nvcc4jupyter.git\n",
        "%load_ext nvcc_plugin"
      ]
    },
    {
      "cell_type": "code",
      "source": [
        "%%cu\n",
        "#include<stdio.h>\n",
        "#include<time.h>\n",
        "\n",
        "float integrate(int N)\n",
        "{\n",
        "float sum = 0;\n",
        "for(int i = 0; i < N; ++i)\n",
        "{\n",
        "float x = (float) i / (float) N;\n",
        "float fx = (1.0f / sqrt(2.0f * M_PI)) * exp(-x * x / 2.0f );\n",
        "sum += fx;\n",
        "}\n",
        "sum *= 1.0f / (float)N;\n",
        "return sum;\n",
        "}\n",
        "\n",
        "int main(){\n",
        "    clock_t start, end;\n",
        "    float calka ; \n",
        "    start = clock();\n",
        "    calka =  integrate(1000);\n",
        "    end = clock();\n",
        "    printf(\"%f\\n\", calka);\n",
        "    printf(\"Time taken: %lf milliseconds\\n\", (double)(end - start) / (CLOCKS_PER_SEC/1000));\n",
        "    printf(\"Time taken: %lf seconds\\n\", (double)(end - start) / CLOCKS_PER_SEC);\n",
        "    return 0 ;  \n",
        "}"
      ],
      "metadata": {
        "colab": {
          "base_uri": "https://localhost:8080/"
        },
        "id": "PCAKURffuLQ_",
        "outputId": "942db76d-6da9-46c7-bf30-1413a141f5ed"
      },
      "execution_count": 7,
      "outputs": [
        {
          "output_type": "stream",
          "name": "stdout",
          "text": [
            "0.341423\n",
            "Time taken: 0.068000 milliseconds\n",
            "Time taken: 0.000068 seconds\n",
            "\n"
          ]
        }
      ]
    },
    {
      "cell_type": "code",
      "source": [
        "%%cu\n",
        "#include<time.h>\n",
        "#include<stdio.h>\n",
        "\n",
        "float integrate_trapezoidal(int N)\n",
        "{\n",
        "    float sum = 0;\n",
        "    for(int i = 0; i < N-1; ++i)\n",
        "    {\n",
        "        float x = (float) i / (float) N;\n",
        "        float x_next = (float) (i+1) / (float) N;\n",
        "        float fx = (1.0f / sqrt(2.0f * M_PI)) * exp(-x * x / 2.0f );\n",
        "        float fx_next = (1.0f / sqrt(2.0f * M_PI)) * exp(-x_next * x_next / 2.0f );\n",
        "        sum += (fx + fx_next)/2;\n",
        "    }\n",
        "    sum *= 1.0f / (float)N;\n",
        "    return sum;\n",
        "}\n",
        "\n",
        "\n",
        "int main(){\n",
        "     clock_t start, end;\n",
        "    float calka ; \n",
        "    start = clock();\n",
        "calka = integrate_trapezoidal( 1000);\n",
        "    end = clock();\n",
        "    printf(\"%f\\n\", calka);\n",
        "       printf(\"Time taken: %lf milliseconds\\n\", (double)(end - start) / (CLOCKS_PER_SEC/1000));\n",
        "    printf(\"Time taken: %lf seconds\\n\", (double)(end - start) / CLOCKS_PER_SEC);\n",
        "\n",
        "return 0 ; \n",
        "}\n"
      ],
      "metadata": {
        "colab": {
          "base_uri": "https://localhost:8080/"
        },
        "id": "i8-bIkCnuSYO",
        "outputId": "14bdad47-503e-4145-a6d3-978e034052cc"
      },
      "execution_count": 8,
      "outputs": [
        {
          "output_type": "stream",
          "name": "stdout",
          "text": [
            "0.341103\n",
            "Time taken: 0.060000 milliseconds\n",
            "Time taken: 0.000060 seconds\n",
            "\n"
          ]
        }
      ]
    },
    {
      "cell_type": "code",
      "source": [
        "%%cu\n",
        "#include<time.h>\n",
        "#include<stdio.h>\n",
        "float integrate_simpson(int N)\n",
        "{\n",
        "    float sum = 0;\n",
        "    for(int i = 0; i < N-1; i+=1)\n",
        "    {\n",
        "        float x = (float) i / (float) N;\n",
        "        float x_mid = (float) (i+1) / (float) N;\n",
        "        float x_next = (float) (i+2) / (float) N;\n",
        "        float fx = (1.0f / sqrt(2.0f * M_PI)) * exp(-x * x / 2.0f );\n",
        "        float fx_mid = (1.0f / sqrt(2.0f * M_PI)) * exp(-x_mid * x_mid / 2.0f );\n",
        "        float fx_next = (1.0f / sqrt(2.0f * M_PI)) * exp(-x_next * x_next / 2.0f );\n",
        "        sum +=(fx + 4*fx_mid + fx_next)/6;\n",
        "}\n",
        "sum *= 1.0f / (float)N;\n",
        "return sum;\n",
        "}\n",
        "\n",
        "int main(){\n",
        "      clock_t start, end;\n",
        "    float calka ; \n",
        "    start = clock();\n",
        "\n",
        "calka = integrate_simpson(1000  );\n",
        " end = clock();\n",
        "    printf(\"%f\\n\", calka);\n",
        "          printf(\"Time taken: %lf milliseconds\\n\", (double)(end - start) / (CLOCKS_PER_SEC/1000));\n",
        "    printf(\"Time taken: %lf seconds\\n\", (double)(end - start) / CLOCKS_PER_SEC);\n",
        "\n",
        "\n",
        "return 0 ; \n",
        "}\n"
      ],
      "metadata": {
        "colab": {
          "base_uri": "https://localhost:8080/"
        },
        "id": "KYw-ac87uWIy",
        "outputId": "a2bab315-7d11-40e2-ddf4-60cd02105f9e"
      },
      "execution_count": 9,
      "outputs": [
        {
          "output_type": "stream",
          "name": "stdout",
          "text": [
            "0.341024\n",
            "Time taken: 0.090000 milliseconds\n",
            "Time taken: 0.000090 seconds\n",
            "\n"
          ]
        }
      ]
    },
    {
      "cell_type": "code",
      "source": [
        "%%cu\n",
        "#include <cuda_runtime.h>\n",
        "#include<stdio.h>\n",
        "__global__ void integratorKernel(float *a, int N)\n",
        "{\n",
        "int idx = blockIdx.x * blockDim.x + threadIdx.x;\n",
        "float x = (float)idx / (float)N;\n",
        "if(idx < N)\n",
        "a[idx] = (1.0f / sqrt(2.0f * M_PI)) * exp(-x * x / 2.0f );\n",
        "}\n",
        "float cudaIntegrate(int N)\n",
        "{\n",
        "size_t size = N * sizeof(float);\n",
        "// alokacja pamieci\n",
        " \n",
        "float* a_h = (float *)malloc(size);\n",
        "float* a_d ; cudaMalloc((void **) &a_d, size);\n",
        "\n",
        "int block_size = 256;\n",
        "int n_blocks = N/block_size + (N % block_size == 0 ? 0:1);\n",
        "integratorKernel <<< n_blocks, block_size >>> (a_d, N);\n",
        "// kopiuj z device do hosta\n",
        "cudaMemcpy(a_h, a_d, sizeof(float)*N, cudaMemcpyDeviceToHost);\n",
        "\n",
        "float sum = 0;\n",
        "for (int i=0; i < N; i++) sum += a_h[i];\n",
        "sum *= 1.0 / (float)N;;\n",
        "// saprztanij\n",
        "free(a_h); cudaFree(a_d);\n",
        "return sum;\n",
        " \n",
        " \n",
        "}\n",
        "\n",
        "int main(void){\n",
        "    cudaEvent_t start, stop;\n",
        "    float x;\n",
        "\n",
        "    cudaEventCreate(&start);\n",
        "    cudaEventCreate(&stop);\n",
        "\n",
        "    cudaEventRecord(start, 0);\n",
        "    x = cudaIntegrate(1000 );\n",
        "    cudaEventRecord(stop, 0);\n",
        "    cudaEventSynchronize(stop);\n",
        "\n",
        "    float milliseconds = 0;\n",
        "    cudaEventElapsedTime(&milliseconds, start, stop);\n",
        "    \n",
        "    printf(\"Time taken: %f ms\\n\", milliseconds);\n",
        "\n",
        "    float seconds = milliseconds / 1000;\n",
        "    printf(\"Time taken: %f s\\n\", seconds);\n",
        "\n",
        "    float hours = seconds / 3600;\n",
        "    printf(\"Time taken: %f h\\n\", hours);\n",
        "\n",
        "    printf(\"Wartosc calki %f\" , x) ;\n",
        "\n",
        "    cudaEventDestroy(start);\n",
        "    cudaEventDestroy(stop);\n",
        "\n",
        "    return 0 ; \n",
        "}"
      ],
      "metadata": {
        "colab": {
          "base_uri": "https://localhost:8080/"
        },
        "id": "583-CQFruXrz",
        "outputId": "c322d09f-9ef7-4270-9f97-24a35e51816e"
      },
      "execution_count": 10,
      "outputs": [
        {
          "output_type": "stream",
          "name": "stdout",
          "text": [
            "Time taken: 0.000000 ms\n",
            "Time taken: 0.000000 s\n",
            "Time taken: 0.000000 h\n",
            "Wartosc calki 88150075605556587499079532162318336.000000\n"
          ]
        }
      ]
    },
    {
      "cell_type": "code",
      "source": [
        "import matplotlib.pyplot as plt\n",
        "\n",
        "n1 =          [         10000 , 50000     ,  100000  , 150000  , 500000  , 1000000 , 1500000 , 5000000 , 10000000 ]\n",
        "time_ms_CPU = [   0.333000 , 1.798000 , 3.627000  ,5.383000 , 17.233000 , 35.666000,50.671000 ,174.576000 ,347.298000]\n",
        "time_ms_GPU = [ 0.289024 , 0.622912 ,0.799488 , 1.110496 , 2.798560 ,  4.657536 ,7.140672 , 26.223295,54.268383 ]\n",
        "\n",
        "plt.plot( n1, time_ms_CPU,color='blue', label='CPU')\n",
        "plt.plot(n1 ,time_ms_GPU  , color='red' , label='GPU' )\n",
        "\n",
        "plt.xscale(\"log\")\n",
        "plt.xticks(n1)\n",
        "plt.xlabel('N')\n",
        "plt.ylabel('Time (milliseconds)')\n",
        "plt.title('Time over N')\n",
        "plt.show()"
      ],
      "metadata": {
        "colab": {
          "base_uri": "https://localhost:8080/",
          "height": 299
        },
        "id": "btNoAzHnw40N",
        "outputId": "e9ee0ae1-c91b-4f9b-f5e2-a4f09a8a938e"
      },
      "execution_count": 11,
      "outputs": [
        {
          "output_type": "display_data",
          "data": {
            "text/plain": [
              "<Figure size 432x288 with 1 Axes>"
            ],
            "image/png": "[encoded data removed]"
          },
          "metadata": {
            "needs_background": "light"
          }
        }
      ]
    },
    {
      "cell_type": "code",
      "source": [
        "%%cu \n",
        "#include<stdio.h>\n",
        "#include <cuda_runtime.h>\n",
        "__global__ void integratorKernel(float *a, int N, float h)\n",
        "{\n",
        "    int idx = blockIdx.x * blockDim.x + threadIdx.x;\n",
        "    float x = (float)idx / (float)N;\n",
        "    if(idx < N)\n",
        "        a[idx] = (1.0f / sqrt(2.0f * M_PI)) * exp(-x * x / 2.0f );\n",
        "}\n",
        "float cudaIntegrate(int N)\n",
        "{\n",
        "\n",
        "    size_t size = N * sizeof(float);\n",
        "    // alokacja pamieci\n",
        "    float* a_h = (float *)malloc(size);\n",
        "    float* a_d ; cudaMalloc((void **) &a_d, size);\n",
        "    int block_size = 256;\n",
        "    int n_blocks = N/block_size + (N % block_size == 0 ? 0:1);\n",
        "    float h = 1.0f / (float)N;\n",
        "    integratorKernel <<< n_blocks, block_size >>> (a_d, N, h);\n",
        "    // kopiuj z device do hosta\n",
        "    cudaMemcpy(a_h, a_d, sizeof(float)*N, cudaMemcpyDeviceToHost);\n",
        "    // uzyj metody trapeow\n",
        "    float sum = (a_h[0] + a_h[N-1]) / 2.0f;\n",
        "    for (int i=1; i < N-1; i++) sum += a_h[i];\n",
        "    sum *= h;\n",
        "    // sprzatnij\n",
        "    free(a_h); cudaFree(a_d);\n",
        "    return sum;\n",
        "}\n",
        "\n",
        "int main(void){\n",
        "     cudaEvent_t start, stop;\n",
        "     cudaEventCreate(&start); \n",
        "    cudaEventCreate(&stop);\n",
        "\n",
        "    cudaEventRecord(start, 0);\n",
        "   float x = cudaIntegrate( 1000000 );\n",
        "  cudaEventRecord(stop, 0);\n",
        "\n",
        "    cudaEventSynchronize(stop);\n",
        "\n",
        "    float milliseconds = 0;\n",
        "    cudaEventElapsedTime(&milliseconds, start, stop);\n",
        "    printf(\"Time taken: %f ms\\n\", milliseconds);\n",
        "\n",
        "    float seconds = milliseconds / 1000;\n",
        "    printf(\"Time taken: %f s\\n\", seconds);\n",
        "\n",
        "    float hours = seconds / 3600;\n",
        "    printf(\"Time taken: %f h\\n\", hours);\n",
        "\n",
        "    printf(\"%f\" , x) ;\n",
        "\n",
        "    cudaEventDestroy(start);\n",
        "    cudaEventDestroy(stop);\n",
        "    \n",
        "  return 0 ; \n",
        "\n",
        "}"
      ],
      "metadata": {
        "colab": {
          "base_uri": "https://localhost:8080/"
        },
        "id": "SHqUK-7nw64m",
        "outputId": "038db6d0-0ca6-4386-8b6e-b76e4620e5fb"
      },
      "execution_count": 12,
      "outputs": [
        {
          "output_type": "stream",
          "name": "stdout",
          "text": [
            "Time taken: 0.000000 ms\n",
            "Time taken: 0.000000 s\n",
            "Time taken: 0.000000 h\n",
            "0.000000\n"
          ]
        }
      ]
    },
    {
      "cell_type": "code",
      "source": [
        "import matplotlib.pyplot as plt\n",
        "\n",
        "n1 =          [  10000 ,  50000     ,  100000  , 150000  , 500000  , 1000000 , 1500000 , 5000000 , 10000000 ]\n",
        "time_ms_CPU = [ 0.453000  , 2.167000 , 4.591000, 6.991000 ,23.566000 ,46.543000,67.896000,232.039000 ,460.781000     ]\n",
        "time_ms_GPU = [ 0.296544 , 0.510400  ,0.806464 , 1.003808 , 2.717088 ,4.960896 ,7.109088 , 24.835840  ,55.288864 ]\n",
        "\n",
        "plt.plot( n1, time_ms_CPU, color='blue', label='CPU')\n",
        "plt.plot(n1 ,time_ms_GPU  , color='red' , label='GPU' )\n",
        "\n",
        "plt.xscale(\"log\")\n",
        "plt.xticks(n1)\n",
        "plt.xlabel('N')\n",
        "plt.ylabel('Time (milliseconds)')\n",
        "plt.title('Time over N')\n",
        "plt.show()\n"
      ],
      "metadata": {
        "colab": {
          "base_uri": "https://localhost:8080/",
          "height": 299
        },
        "id": "PAQAGDnzw8Ra",
        "outputId": "60db815b-ef80-43b3-dea2-9405945a2295"
      },
      "execution_count": 13,
      "outputs": [
        {
          "output_type": "display_data",
          "data": {
            "text/plain": [
              "<Figure size 432x288 with 1 Axes>"
            ],
            "image/png": "[encoded data removed]"
          },
          "metadata": {
            "needs_background": "light"
          }
        }
      ]
    },
    {
      "cell_type": "code",
      "source": [
        "%%cu \n",
        "\n",
        "#include<stdio.h>\n",
        "#include <cuda_runtime.h>\n",
        "__global__ void integratorKernel(float *a, int N, float h)\n",
        "{\n",
        "    int idx = blockIdx.x * blockDim.x + threadIdx.x;\n",
        "    float x = (float)idx / (float)N;\n",
        "    if(idx < N)\n",
        "        a[idx] = (1.0f / sqrt(2.0f * M_PI)) * exp(-x * x / 2.0f );\n",
        "}\n",
        "float cudaIntegrate(int N)\n",
        "{\n",
        " \n",
        "    size_t size = N * sizeof(float);\n",
        "    // alokacja pamieci\n",
        "    float* a_h = (float *)malloc(size);\n",
        "    float* a_d ; cudaMalloc((void **) &a_d, size);\n",
        "    int block_size = 256;\n",
        "    int n_blocks = N/block_size + (N % block_size == 0 ? 0:1);\n",
        "    float h = 1.0f / (float)N;\n",
        "    integratorKernel <<< n_blocks, block_size >>> (a_d, N, h);\n",
        "    // kopiuj z device do hosta \n",
        "    cudaMemcpy(a_h, a_d, sizeof(float)*N, cudaMemcpyDeviceToHost);\n",
        "   \n",
        "\n",
        "    float sum = a_h[0] + a_h[N-1];\n",
        "    for (int i=1; i < N-1; i++)\n",
        "    {\n",
        "        if (i % 2 == 0)\n",
        "            sum += 2 * a_h[i];\n",
        "        else\n",
        "            sum += 4 * a_h[i];\n",
        "    }\n",
        "    sum *= h / 3.0f;\n",
        "    // sprzatnij\n",
        "    free(a_h); cudaFree(a_d);\n",
        "    return sum;\n",
        "}\n",
        "\n",
        "int main(void){\n",
        "     cudaEvent_t start, stop;\n",
        "     cudaEventCreate(&start);\n",
        "    cudaEventCreate(&stop);\n",
        "\n",
        "    cudaEventRecord(start, 0);\n",
        "   float x = cudaIntegrate(10000);\n",
        "   cudaEventRecord(stop, 0);\n",
        "\n",
        "    cudaEventSynchronize(stop);\n",
        "\n",
        "    float milliseconds = 0;\n",
        "    cudaEventElapsedTime(&milliseconds, start, stop);\n",
        "    printf(\"Time taken: %f ms\\n\", milliseconds);\n",
        "\n",
        "    float seconds = milliseconds / 1000;\n",
        "    printf(\"Time taken: %f s\\n\", seconds);\n",
        "\n",
        "    float hours = seconds / 3600;\n",
        "    printf(\"Time taken: %f h\\n\", hours);\n",
        "\n",
        "    printf(\"%f\" , x) ;\n",
        "\n",
        "    cudaEventDestroy(start);\n",
        "    cudaEventDestroy(stop);\n",
        "    \n",
        "  return 0 ; \n",
        "\n",
        "}"
      ],
      "metadata": {
        "colab": {
          "base_uri": "https://localhost:8080/"
        },
        "id": "XwLaoQ2Cw9pD",
        "outputId": "6d592f25-2472-414f-8da1-d0d731d146ff"
      },
      "execution_count": 14,
      "outputs": [
        {
          "output_type": "stream",
          "name": "stdout",
          "text": [
            "Time taken: 0.000000 ms\n",
            "Time taken: 0.000000 s\n",
            "Time taken: 0.000000 h\n",
            "nan\n"
          ]
        }
      ]
    },
    {
      "cell_type": "code",
      "source": [
        "import matplotlib.pyplot as plt\n",
        "\n",
        "n1 =          [  10000 ,  50000     ,  100000  , 150000  , 500000  , 1000000 , 1500000 , 5000000 , 10000000 ]\n",
        "time_ms_CPU = [ 0.544000  , 2.691000  , 5.770000 , 8.546000  ,27.207000 ,56.187000, 82.652000 ,287.248000,566.994000      ]\n",
        "time_ms_GPU = [0.358208 , 0.481376 ,  0.793856 ,1.073440 , 2.688352 ,  4.701952 ,7.723648 ,25.896769 , 55.126686   ]\n",
        "\n",
        "plt.plot( n1, time_ms_CPU, color='blue', label='CPU')\n",
        "plt.plot(n1 ,time_ms_GPU  , color='red' , label='GPU' )\n",
        "\n",
        "plt.xscale(\"log\")\n",
        "plt.xticks(n1)\n",
        "plt.xlabel('N')\n",
        "plt.ylabel('Time (milliseconds)')\n",
        "plt.title('Time over N')\n",
        "plt.show()\n"
      ],
      "metadata": {
        "colab": {
          "base_uri": "https://localhost:8080/",
          "height": 299
        },
        "id": "JUMQpvoFw-tn",
        "outputId": "5f68e7f5-914d-4549-d45f-3cf9c7c23146"
      },
      "execution_count": 15,
      "outputs": [
        {
          "output_type": "display_data",
          "data": {
            "text/plain": [
              "<Figure size 432x288 with 1 Axes>"
            ],
            "image/png": "[encoded data removed]"
          },
          "metadata": {
            "needs_background": "light"
          }
        }
      ]
    },
    {
      "cell_type": "markdown",
      "source": [
        " **Wydajność**: Programy GPU są znacznie bardziej wydajne niż programy wykorzystujące tylko procesor. Mogą przetwarzać dane znacznie szybciej, co oznacza, że programy GPU mogą obsłużyć więcej danych w krótszym czasie. \n",
        "\n",
        " **Zastosowanie**: Programy GPU są szczególnie przydatne do obliczeń numerycznych, takich jak integracja lub renderowanie grafiki 3D, które wymagają dużej mocy obliczeniowej. \n",
        "\n",
        " **Skalowalność**: Programy GPU są bardziej skalowalne niż programy CPU, co oznacza, że mogą efektywnie wykorzystywać więcej rdzeni i wątków, co pozwala im przyspieszyć obliczenia. Dlatego, gdy musimy przetwarzać duże ilości danych lub obliczać złożone algorytmy, programy GPU mogą być bardziej odpowiednie niż programy CPU.\n",
        "\n",
        "**Sprzęt**: Aby korzystać z programów GPU, potrzebujemy specjalistycznego sprzętu, takiego jak karta graficzna obsługująca CUDA lub OpenCL. Dlatego przed rozpoczęciem korzystania z takich programów musimy się upewnić, że posiadamy wymagany sprzęt.\n",
        "\n",
        "**Programowanie**: Programowanie dla GPU może być bardziej skomplikowane niż dla CPU, ponieważ wymaga specjalistycznej wiedzy na temat programowania na GPU, takiej jak CUDA lub OpenCL.\n"
      ],
      "metadata": {
        "id": "sl4kAv8NxF1B"
      }
    }
  ]
}