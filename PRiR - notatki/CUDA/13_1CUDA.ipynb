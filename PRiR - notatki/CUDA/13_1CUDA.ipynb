{
 "cells": [
  {
   "cell_type": "code",
   "execution_count": null,
   "metadata": {},
   "outputs": [],
   "source": [
    "# Importuj potrzebne biblioteki\n",
    "import torch\n",
    "import matplotlib.pyplot as plt\n",
    "\n",
    "# Zdefiniuj funkcję do obliczania pi przy użyciu symulacji Monte Carlo\n",
    "def monte_carlo_pi(n_samples, device):\n",
    "    # Wygeneruj losowe punkty w płaszczyźnie 2-wymiarowej\n",
    "    x = torch.rand(n_samples, 2, device=device) \n",
    "    # Oblicz odległość każdego punktu od początku układu współrzędnych\n",
    "    dist = x.norm(dim=1) \n",
    "    # Zlicz liczbę punktów wewnątrz koła jednostkowego\n",
    "    inside = (dist <= 1).sum().to(torch.float32)\n",
    "    # Oblicz szacowaną wartość pi\n",
    "    pi = (inside / n_samples) * 4 \n",
    "    return pi\n",
    "\n",
    "# Liczba próbek do wygenerowania\n",
    "n_samples = 100000\n",
    "\n",
    "# Oblicz pi na CPU\n",
    "device = 'cpu'\n",
    "pi_cpu = monte_carlo_pi(n_samples, device)\n",
    "print(f'Wartość pi dla {n_samples} punktów na CPU: {pi_cpu}')\n",
    "\n",
    "# Oblicz pi na GPU\n",
    "device = 'cuda'\n",
    "pi_gpu = monte_carlo_pi(n_samples, device)\n",
    "print(f'Wartość pi dla {n_samples} punktów na GPU: {pi_gpu}')\n",
    "\n",
    "\n",
    "\n",
    "# Import biblioteki do pomiaru czasu\n",
    "import time\n",
    "\n",
    "# Zdefiniuj zakres liczby próbek do wygenerowania\n",
    "n_samples_range = [1000, 10000, 100000, 1000000]\n",
    "\n",
    "# Listy do zapisywania czasów obliczeń na CPU i GPU\n",
    "times_cpu = []\n",
    "times_gpu = []\n",
    "\n",
    "# Dla każdej liczby próbek:\n",
    "for n_samples in n_samples_range:\n",
    "    # Pomiar czasu rozpoczynający się przed obliczeniem pi na CPU\n",
    "    start_time = time.time()\n",
    "    monte_carlo_pi(n_samples, 'cpu')\n",
    "    # Pomiar czasu kończący się po zakończeniu obliczeń na CPU\n",
    "    end_time = time.time()\n",
    "    # Zapisz różnicę między czasem końcowym i początkowym do listy times_cpu\n",
    "    times_cpu.append(end_time - start_time)\n",
    "\n",
    "    # Pomiar czasu rozpoczynający się przed obliczeniem pi na GPU\n",
    "    start_time = time.time()\n",
    "    monte_carlo_pi(n_samples, 'cuda')\n",
    "    # Pomiar czasu kończący się po zakończeniu obliczeń na GPU\n",
    "    end_time = time.time()\n",
    "    # Zapisz różnicę między czasem końcowym i początkowym do listy times_gpu\n",
    "    times_gpu.append(end_time - start_time)\n",
    "\n",
    "# Wygeneruj wykres porównujący czas obliczeń na CPU i GPU\n",
    "plt.plot(n_samples_range, times_cpu, label='CPU')\n",
    "plt.plot(n_samples_range, times_gpu, label='GPU')\n",
    "# Skaluj oś X logarytmicznie\n",
    "plt.xscale('log')\n",
    "plt.xlabel(\"Liczba losowanych punktów\")\n",
    "plt.ylabel(\"Czas [s]\")\n",
    "plt.legend()\n",
    "plt.show()\n"
   ]
  }
 ],
 "metadata": {
  "kernelspec": {
   "display_name": "Python 3",
   "language": "python",
   "name": "python3"
  },
  "language_info": {
   "name": "python",
   "version": "3.10.10"
  },
  "orig_nbformat": 4,
  "vscode": {
   "interpreter": {
    "hash": "4bdec1366fa08fcd9d9cc65506b54a354794b881bdb997cace954ff30a926f6f"
   }
  }
 },
 "nbformat": 4,
 "nbformat_minor": 2
}
