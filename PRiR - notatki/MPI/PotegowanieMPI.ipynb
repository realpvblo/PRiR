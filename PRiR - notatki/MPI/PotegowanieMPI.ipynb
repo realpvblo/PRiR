{
 "cells": [
  {
   "cell_type": "code",
   "execution_count": null,
   "metadata": {
    "vscode": {
     "languageId": "powershell"
    }
   },
   "outputs": [],
   "source": [
    "%%sh\n",
    "cat > pi-mpi.c << EOF\n",
    "#include <mpi.h>\n",
    "#include <stdio.h>\n",
    "#include <time.h>\n",
    "\n",
    "//# funkcja potęgująca bo funkcja w math.h pow nie działa \n",
    "\n",
    "double potegowanie(double a , int b )\n",
    "{\n",
    "      double result=1.0;\n",
    "      for (int i = 1; i <= b; i++)\n",
    "      {\n",
    "          result *= a;\n",
    "      }\n",
    "      return result; \n",
    "}\n",
    "\n",
    "int main(int argc, char **argv)\n",
    "{\n",
    "    int numer_procesu;\n",
    "    int liczba_procesow;\n",
    "    int tag = 1;\n",
    "    \n",
    "    MPI_Status status;   //#Struktura, która jest używana do uzyskania informacji o statusie operacji MPI_Recv.\n",
    "\n",
    "    MPI_Init(&argc, &argv);           //#MPI_Init: Inicjalizuje środowisko MPI i zapewnia wywołanie wszystkich innych funkcji MP\n",
    "\n",
    "    MPI_Comm_rank(MPI_COMM_WORLD, &numer_procesu);  //#Określa identyfikator (numer) bieżącego procesu MPI. Funkcja ta zwraca identyfikator bieżącego procesu za pośrednictwem zmiennej numer_procesu.\n",
    "\n",
    "    MPI_Comm_size(MPI_COMM_WORLD, &liczba_procesow);    //#Zwraca liczbę procesów MPI będących częścią komunikacji. Funkcja ta zwraca liczbę procesów MPI za pośrednictwem zmiennej liczba_procesów.\n",
    "    \n",
    "    clock_t t;\n",
    "    double time_taken;\n",
    "\n",
    "    if(numer_procesu == 0)\n",
    "    {\n",
    "      double lpi = 0 ,x = 0,total_time =0,t=0;\n",
    "\n",
    "      for(int i=1; i<liczba_procesow; i++)\n",
    "      {\n",
    "        MPI_Recv(&x, 1, MPI_DOUBLE, i, tag, MPI_COMM_WORLD, &status);  //#Odbiera dane z innego procesu MPI. Funkcja ta odbiera dane od procesu o numerze różnym od 0 i zapisuje je w zmiennej x.\n",
    "        lpi +=x;\n",
    "        MPI_Recv(&t, 1, MPI_DOUBLE, i, tag, MPI_COMM_WORLD, &status);\n",
    "        total_time+=t;\n",
    "      }\n",
    "      printf(\"Wartosc liczby pi = %f \\n\", 4 * lpi);\n",
    "      printf(\"Total time taken = %f \\n\", total_time);\n",
    "    }\n",
    "\n",
    "    if(numer_procesu != 0)\n",
    "    {\n",
    "      t = clock();  //#Zmienna t jest używana do mierzenia czasu, który został wykorzystany przez proces, aby wykonać jego zadanie.\n",
    "      //#Jest ona inicjalizowana za pomocą funkcji clock(), która zwraca ilość taktów procesora, które zostały użyte od czasu uruchomienia programu.\n",
    "\n",
    "      double x = potegowanie( -1, numer_procesu - 1) / ( 2 * numer_procesu - 1); \n",
    "      printf(\"Wynik procesu %d = %f \\t\" , numer_procesu , x);\n",
    "      MPI_Send(&x, 1, MPI_DOUBLE, 0, tag, MPI_COMM_WORLD);  //#Wysyła dane z jednego procesu MPI do innego procesu MPI. Funkcja ta wysyła zmienną x z bieżącego procesu do procesu o numerze 0.\n",
    "\n",
    "      t = clock() - t;  //#zadania t jest ponownie ustawiana za pomocą clock() i odejmowana od t w celu uzyskania ilości taktów procesora, które zostały użyte na wykonanie zadania.\n",
    "\n",
    "      time_taken = ((double)t)/CLOCKS_PER_SEC; //#Zmienna time_taken jest używana do przechowywania czasu w sekundach, który został wykorzystany na wykonanie zadania przez proces.\n",
    "      //#Jest to obliczone przez podzielenie t przez CLOCKS_PER_SEC, które jest stałą, która określa ilość taktów procesora na\n",
    "\n",
    "      MPI_Send(&time_taken, 1, MPI_DOUBLE, 0, tag, MPI_COMM_WORLD);\n",
    "      printf(\"Czas wykonywania sie procesu nr %d = %f\\n\",numer_procesu,time_taken);\n",
    "    }\n",
    "    MPI_Finalize(); //#Zamyka środowisko MPI i zwalnia zasoby z niego używane.\n",
    "}\n",
    "EOF\n",
    "\n",
    "mpicc pi-mpi.c && mpirun -n 1 --allow-run-as-root a.out \n",
    "\n",
    "//#program zostanie uruchomiony z jednym procesem (-n 1). Wynik działania programu będzie wyświetlony na standardowym wyjściu."
   ]
  }
 ],
 "metadata": {
  "kernelspec": {
   "display_name": "Python 3",
   "language": "python",
   "name": "python3"
  },
  "language_info": {
   "name": "python",
   "version": "3.10.10"
  },
  "orig_nbformat": 4,
  "vscode": {
   "interpreter": {
    "hash": "4bdec1366fa08fcd9d9cc65506b54a354794b881bdb997cace954ff30a926f6f"
   }
  }
 },
 "nbformat": 4,
 "nbformat_minor": 2
}
