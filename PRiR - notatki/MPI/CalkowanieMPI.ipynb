{
 "cells": [
  {
   "cell_type": "code",
   "execution_count": null,
   "metadata": {
    "vscode": {
     "languageId": "powershell"
    }
   },
   "outputs": [],
   "source": [
    "//# Dyrektywy preprocesora zawierają bibliotekę MPI i biblioteki standardowe do wejścia i wyjścia, a także czas.\n",
    "\n",
    "%%sh\n",
    "cat > pi-mpi.c << EOF\n",
    "#include <mpi.h>\n",
    "#include <stdio.h>\n",
    "#include <time.h>\n",
    " \n",
    "// moja funkcja\n",
    "//# Funkcja funkcja oblicza kwadrat swojego argumentu.\n",
    "double funkcja(double x)\n",
    "{\n",
    "  return x*x;\n",
    "}\n",
    "\n",
    "//# Funkcja główna inicjuje MPI, określa rangę i liczbę procesów, a następnie oblicza wielkość kroku h numerycznej integracji.\n",
    "int main(int argc, char **argv)\n",
    "{\n",
    "    int numer_procesu;\n",
    "    int liczba_procesow;\n",
    "    int tag=1;\n",
    "    \n",
    "    MPI_Status status;\n",
    "    MPI_Init(&argc, &argv);\n",
    "    MPI_Comm_rank(MPI_COMM_WORLD, &numer_procesu);\n",
    "    MPI_Comm_size(MPI_COMM_WORLD, &liczba_procesow);\n",
    "    clock_t t;\n",
    "    double time_taken;\n",
    "\n",
    "    double l_procesow = liczba_procesow, n_procesu = numer_procesu;\n",
    "\n",
    "    double granica_dolna_calki = 1,granica_gorna_calki = 4;\n",
    "    double h = (granica_gorna_calki - granica_dolna_calki) / l_procesow;\n",
    "    \n",
    "    //# Jeśli ranga bieżącego procesu wynosi 0 (główny proces), otrzymuje on wartości całkowanej z innych procesów, dodaje je i wyświetla wynik.\n",
    "    if(numer_procesu == 0)\n",
    "    {\n",
    "      double calka = 0 ,x=0;\n",
    "      for(int i=1; i<liczba_procesow; i++)\n",
    "      {\n",
    "        MPI_Recv(&x, 1, MPI_DOUBLE, i, tag, MPI_COMM_WORLD, &status);\n",
    "        calka +=x;\n",
    "      }\n",
    "      printf(\"Wartosc funkcji(dolnej granicy calki)/2 * h = %f \\n\",funkcja(granica_dolna_calki)/2 * h);\n",
    "      printf(\"Wartosc funkcji(gornej granicy calki)/2 * h = %f \\n\",funkcja(granica_gorna_calki)/2 * h);\n",
    "\n",
    "      printf(\"Wartosc calki = %1f \\n\", h * (funkcja(granica_dolna_calki)/2 + calka \n",
    "        + funkcja(granica_gorna_calki)/2));\n",
    "    }\n",
    "\n",
    "    //# Jeśli ranga bieżącego procesu nie wynosi 0, oblicza on wartość całkowanej na swoim przydzielonym przedziale, wysyła wynik do głównego procesu i wyświetla czas wykonania.\n",
    "    if(numer_procesu != 0)\n",
    "    {\n",
    "        t = clock();\n",
    "        double xi,wynik;\n",
    "        n_procesu = numer_procesu;\n",
    "        xi = granica_dolna_calki + (n_procesu/l_procesow) \n",
    "            * (granica_gorna_calki - granica_dolna_calki);\n",
    "        wynik = funkcja(xi);\n",
    "        printf(\"Wynik procesu %d = %f \\t\", numer_procesu,wynik*h);\n",
    "        MPI_Send(&wynik, 1, MPI_DOUBLE, 0, tag, MPI_COMM_WORLD);\n",
    "        t = clock() - t;\n",
    "        time_taken = ((double)t)/CLOCKS_PER_SEC;\n",
    "        printf(\"Czas wykonywania sie procesu nr %d = %f\\n\",numer_procesu,time_taken);\n",
    "    }\n",
    "\n",
    "    MPI_Finalize();\n",
    "}\n",
    "//# Biblioteka MPI jest zakończona na końcu.\n",
    "EOF\n",
    "mpicc pi-mpi.c && mpirun -n 1 --allow-run-as-root a.out"
   ]
  }
 ],
 "metadata": {
  "kernelspec": {
   "display_name": "Python 3",
   "language": "python",
   "name": "python3"
  },
  "language_info": {
   "name": "python",
   "version": "3.10.10"
  },
  "orig_nbformat": 4,
  "vscode": {
   "interpreter": {
    "hash": "4bdec1366fa08fcd9d9cc65506b54a354794b881bdb997cace954ff30a926f6f"
   }
  }
 },
 "nbformat": 4,
 "nbformat_minor": 2
}
