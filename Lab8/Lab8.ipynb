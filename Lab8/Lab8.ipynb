{
  "nbformat": 4,
  "nbformat_minor": 0,
  "metadata": {
    "colab": {
      "provenance": []
    },
    "kernelspec": {
      "name": "python3",
      "display_name": "Python 3"
    },
    "language_info": {
      "name": "python"
    }
  },
  "cells": [
    {
      "cell_type": "code",
      "execution_count": null,
      "metadata": {
        "id": "f8lvr2vdIBAN"
      },
      "outputs": [],
      "source": [
        "!nvcc --version\n",
        "!pip install git+https://github.com/andreinechaev/nvcc4jupyter.git\n",
        "%load_ext nvcc_plugin"
      ]
    },
    {
      "cell_type": "markdown",
      "source": [
        "execution1 DIM **1000**"
      ],
      "metadata": {
        "id": "GBVVO8abeyld"
      }
    },
    {
      "cell_type": "code",
      "source": [
        "%%cu \n",
        "#include<stdio.h>\n",
        "#define DIM 1000\n",
        "struct cuComplex{\n",
        "    float r;\n",
        "    float i;\n",
        "    __device__ cuComplex(float a, float b):r(a),i(b){}\n",
        "    __device__ float magnitude2(void){ return r*r+i*i; }\n",
        "    __device__ cuComplex operator*(const cuComplex &a){ return cuComplex(r*a.r-i*a.i,i*a.r+r*a.i); }\n",
        "    __device__ cuComplex operator+(const cuComplex &a){ return cuComplex(r+a.r,i+a.i); }\n",
        "};\n",
        "__device__ int julia(int x, int y){\n",
        "    const float scale=1.5;\n",
        "    float jx=scale*(float)(DIM/2-x)/(DIM/2);\n",
        "    float jy=scale*(float)(DIM/2-y)/(DIM/2);\n",
        "    cuComplex c(-0.8,0.156);\n",
        "    cuComplex a(jx,jy);\n",
        "    int i=0;\n",
        "    for(i=0;i<200;i++){\n",
        "        a=a*a+c;\n",
        "        if(a.magnitude2()>1000) return 0;\n",
        "    }\n",
        "    return 1;\n",
        "}\n",
        "__global__ void kernel(unsigned char *ptr){\n",
        "    int x=blockIdx.x;\n",
        "    int y=blockIdx.y;\n",
        "    int offset=x+y*gridDim.x;\n",
        "\n",
        "    int juliaValue=julia(x,y);\n",
        "    ptr[offset*4+0]=255*juliaValue;\n",
        "    ptr[offset*4+1]=0;\n",
        "    ptr[offset*4+2]=0;\n",
        "    ptr[offset*4+3]=255;\n",
        "}\n",
        "struct DataBlock{\n",
        "    unsigned char *dev_bitmap;\n",
        "};\n",
        "\n",
        "void wypisz_RGB_fraktal(unsigned char *ptr){\n",
        "    for(int y=0;y<DIM;y++){\n",
        "        for(int x=0;x<DIM;x++){\n",
        "            int offset=x+y*DIM;\n",
        "            printf(\"\\n%d, %d, %d, %d\", ptr[offset*4+0], ptr[offset*4+1], ptr[offset*4+2], ptr[offset*4+3]);\n",
        "        }\n",
        "    }\n",
        "}\n",
        "void save_to_file(unsigned char *ptr){\n",
        "    FILE *fp=fopen(\"Fraktal_GPU.jpg\",\"w\");\n",
        "    fprintf(fp,\"P3\\n%d %d\\n255\\n\", DIM, DIM);\n",
        "     for(int y=0;y<DIM;y++){\n",
        "        for(int x=0;x<DIM;x++){\n",
        "            int offset=x+y*DIM;\n",
        "            fprintf(fp,\"\\n%d %d %d\", ptr[offset*4+0], ptr[offset*4+1], ptr[offset*4+2]);\n",
        "        }\n",
        "}\n",
        "fclose(fp);\n",
        "}\n",
        "int main(void){\n",
        "    clock_t start, end;\n",
        "    double execution_time1;\n",
        "    FILE *fp = fopen(\"execution_time1.txt\", \"w\");\n",
        "    for (int i = 0; i < 10; i++) {\n",
        "        start = clock();\n",
        "        DataBlock data;\n",
        "        unsigned char *bitmap = (unsigned char*)malloc(DIM*DIM*4*sizeof(unsigned char));\n",
        "        int image_size = DIM*DIM*4;\n",
        "        unsigned char *dev_bitmap;\n",
        "        cudaMalloc((void**)&dev_bitmap, image_size);\n",
        "        data.dev_bitmap=dev_bitmap;\n",
        "        dim3 grid(DIM,DIM);\n",
        "        kernel<<<grid,1>>>(dev_bitmap);\n",
        "        cudaMemcpy(bitmap,dev_bitmap,image_size,cudaMemcpyDeviceToHost);\n",
        "        cudaFree(dev_bitmap);\n",
        "        save_to_file (bitmap);\n",
        "        end = clock();\n",
        "            execution_time1 = ((double)(end - start))/CLOCKS_PER_SEC;\n",
        "            fprintf(fp, \"%f\\n\", execution_time1);\n",
        "        }\n",
        "        fclose(fp);\n",
        "        return 0;\n",
        "}\n"
      ],
      "metadata": {
        "colab": {
          "base_uri": "https://localhost:8080/"
        },
        "id": "7GZgYGYiIHHR",
        "outputId": "1d97dc43-5b76-48b3-e59d-1a0efc760f13"
      },
      "execution_count": 91,
      "outputs": [
        {
          "output_type": "stream",
          "name": "stdout",
          "text": [
            "\n"
          ]
        }
      ]
    },
    {
      "cell_type": "markdown",
      "source": [
        "execution1_1 DIM **500**"
      ],
      "metadata": {
        "id": "EtJvVqa-e4ms"
      }
    },
    {
      "cell_type": "code",
      "source": [
        "%%cu \n",
        "#include<stdio.h>\n",
        "#define DIM 500\n",
        "struct cuComplex{\n",
        "    float r;\n",
        "    float i;\n",
        "    __device__ cuComplex(float a, float b):r(a),i(b){}\n",
        "    __device__ float magnitude2(void){ return r*r+i*i; }\n",
        "    __device__ cuComplex operator*(const cuComplex &a){ return cuComplex(r*a.r-i*a.i,i*a.r+r*a.i); }\n",
        "    __device__ cuComplex operator+(const cuComplex &a){ return cuComplex(r+a.r,i+a.i); }\n",
        "};\n",
        "__device__ int julia(int x, int y){\n",
        "    const float scale=1.5;\n",
        "    float jx=scale*(float)(DIM/2-x)/(DIM/2);\n",
        "    float jy=scale*(float)(DIM/2-y)/(DIM/2);\n",
        "    cuComplex c(-0.8,0.156);\n",
        "    cuComplex a(jx,jy);\n",
        "    int i=0;\n",
        "    for(i=0;i<200;i++){\n",
        "        a=a*a+c;\n",
        "        if(a.magnitude2()>1000) return 0;\n",
        "    }\n",
        "    return 1;\n",
        "}\n",
        "__global__ void kernel(unsigned char *ptr){\n",
        "    int x=blockIdx.x;\n",
        "    int y=blockIdx.y;\n",
        "    int offset=x+y*gridDim.x;\n",
        "\n",
        "    int juliaValue=julia(x,y);\n",
        "    ptr[offset*4+0]=255*juliaValue;\n",
        "    ptr[offset*4+1]=0;\n",
        "    ptr[offset*4+2]=0;\n",
        "    ptr[offset*4+3]=255;\n",
        "}\n",
        "struct DataBlock{\n",
        "    unsigned char *dev_bitmap;\n",
        "};\n",
        "\n",
        "void wypisz_RGB_fraktal(unsigned char *ptr){\n",
        "    for(int y=0;y<DIM;y++){\n",
        "        for(int x=0;x<DIM;x++){\n",
        "            int offset=x+y*DIM;\n",
        "            printf(\"\\n%d, %d, %d, %d\", ptr[offset*4+0], ptr[offset*4+1], ptr[offset*4+2], ptr[offset*4+3]);\n",
        "        }\n",
        "    }\n",
        "}\n",
        "void save_to_file(unsigned char *ptr){\n",
        "    FILE *fp=fopen(\"Fraktal_GPU.jpg\",\"w\");\n",
        "    fprintf(fp,\"P3\\n%d %d\\n255\\n\", DIM, DIM);\n",
        "     for(int y=0;y<DIM;y++){\n",
        "        for(int x=0;x<DIM;x++){\n",
        "            int offset=x+y*DIM;\n",
        "            fprintf(fp,\"\\n%d %d %d\", ptr[offset*4+0], ptr[offset*4+1], ptr[offset*4+2]);\n",
        "        }\n",
        "}\n",
        "fclose(fp);\n",
        "}\n",
        "int main(void){\n",
        "    clock_t start, end;\n",
        "    double execution_time1_1;\n",
        "    FILE *fp = fopen(\"execution_time1_1.txt\", \"w\");\n",
        "    for (int i = 0; i < 10; i++) {\n",
        "        start = clock();\n",
        "        DataBlock data;\n",
        "        unsigned char *bitmap = (unsigned char*)malloc(DIM*DIM*4*sizeof(unsigned char));\n",
        "        int image_size = DIM*DIM*4;\n",
        "        unsigned char *dev_bitmap;\n",
        "        cudaMalloc((void**)&dev_bitmap, image_size);\n",
        "        data.dev_bitmap=dev_bitmap;\n",
        "        dim3 grid(DIM,DIM);\n",
        "        kernel<<<grid,1>>>(dev_bitmap);\n",
        "        cudaMemcpy(bitmap,dev_bitmap,image_size,cudaMemcpyDeviceToHost);\n",
        "        cudaFree(dev_bitmap);\n",
        "        save_to_file (bitmap);\n",
        "        end = clock();\n",
        "            execution_time1_1 = ((double)(end - start))/CLOCKS_PER_SEC;\n",
        "            fprintf(fp, \"%f\\n\", execution_time1_1);\n",
        "        }\n",
        "        fclose(fp);\n",
        "        return 0;\n",
        "}\n"
      ],
      "metadata": {
        "colab": {
          "base_uri": "https://localhost:8080/"
        },
        "id": "yH5Wd6aCe6cP",
        "outputId": "70366c32-7c89-4ea5-9020-3eabcc920952"
      },
      "execution_count": 95,
      "outputs": [
        {
          "output_type": "stream",
          "name": "stdout",
          "text": [
            "\n"
          ]
        }
      ]
    },
    {
      "cell_type": "markdown",
      "source": [
        "execution2 DIM **1000**"
      ],
      "metadata": {
        "id": "ISjvyH4dfS4C"
      }
    },
    {
      "cell_type": "code",
      "source": [
        "%%cu \n",
        "#include<stdio.h>\n",
        "#define DIM 1000\n",
        "\n",
        "struct cuComplex{\n",
        "    float r;\n",
        "    float i;\n",
        "    cuComplex(float a, float b):r(a),i(b){}\n",
        "    float magnitude2(void){return r*r+i*i;}\n",
        "    cuComplex operator*(const cuComplex &a){ return cuComplex(r*a.r-i*a.i,i*a.r+r*a.i); }\n",
        "    cuComplex operator+(const cuComplex &a){ return cuComplex(r+a.r,i+a.i); }\n",
        "};\n",
        "    int julia(int x, int y){\n",
        "    const float scale=1.5;\n",
        "    float jx=scale*(float)(DIM/2-x)/(DIM/2);\n",
        "    float jy=scale*(float)(DIM/2-y)/(DIM/2);\n",
        "    cuComplex c(-0.8,0.156);\n",
        "    cuComplex a(jx,jy);\n",
        "    int i=0;\n",
        "    for(i=0;i<200;i++){\n",
        "        a=a*a+c;\n",
        "        if(a.magnitude2()>1000) return 0;\n",
        "    }\n",
        "    return 1;\n",
        "}\n",
        "    void kernel(unsigned char *ptr){\n",
        "        for(int y=0;y<DIM;y++){\n",
        "        for(int x=0;x<DIM;x++){\n",
        "            int offset=x+y*DIM;\n",
        "            int juliaValue=julia(x,y);\n",
        "            ptr[offset*4+0]=255*juliaValue;\n",
        "            ptr[offset*4+1]=0;\n",
        "            ptr[offset*4+2]=0;\n",
        "            ptr[offset*4+3]=255;\n",
        "          }\n",
        "        }\n",
        "    }\n",
        "  \n",
        "struct DataBlock{\n",
        "    unsigned char *dev_bitmap;\n",
        "};\n",
        "\n",
        "void wypisz_RGB_fraktal(unsigned char *ptr){\n",
        "    for(int y=0;y<DIM;y++){\n",
        "        for(int x=0;x<DIM;x++){\n",
        "            int offset=x+y*DIM;\n",
        "            printf(\"\\n%d, %d, %d, %d\", ptr[offset*4+0], ptr[offset*4+1], ptr[offset*4+2], ptr[offset*4+3]);\n",
        "        }\n",
        "    }\n",
        "}\n",
        "void save_to_file(unsigned char *ptr){\n",
        "    FILE *fp=fopen(\"Fraktal_CPU.jpg\",\"w\");\n",
        "    fprintf(fp,\"P3\\n%d %d\\n255\\n\", DIM, DIM);\n",
        "     for(int y=0;y<DIM;y++){\n",
        "        for(int x=0;x<DIM;x++){\n",
        "            int offset=x+y*DIM;\n",
        "            fprintf(fp,\"\\n%d %d %d\", ptr[offset*4+0], ptr[offset*4+1], ptr[offset*4+2]);\n",
        "        }\n",
        "}\n",
        "fclose(fp);\n",
        "}\n",
        "int main(void){\n",
        "    clock_t start, end;\n",
        "    double execution_time2;\n",
        "    FILE *fp = fopen(\"execution_time2.txt\", \"w\");\n",
        "    for (int i = 0; i < 10; i++) {\n",
        "        start = clock();\n",
        "        DataBlock data;\n",
        "        unsigned char *bitmap = (unsigned char*)malloc(DIM*DIM*4*sizeof(unsigned char));\n",
        "        int image_size = DIM*DIM*4;\n",
        "        kernel(bitmap);\n",
        "        save_to_file (bitmap);\n",
        "        end = clock();\n",
        "        execution_time2 = ((double)(end - start))/CLOCKS_PER_SEC;\n",
        "        fprintf(fp, \"%f\\n\", execution_time2);\n",
        "    }\n",
        "    fclose(fp);\n",
        "    return 0;\n",
        "}"
      ],
      "metadata": {
        "id": "l-DZ6VaNIJrC"
      },
      "execution_count": null,
      "outputs": []
    },
    {
      "cell_type": "markdown",
      "source": [
        "execution2_2 DIM **500**"
      ],
      "metadata": {
        "id": "axBuQU3MfYJ7"
      }
    },
    {
      "cell_type": "code",
      "source": [
        "%%cu \n",
        "#include<stdio.h>\n",
        "#define DIM 500\n",
        "\n",
        "struct cuComplex{\n",
        "    float r;\n",
        "    float i;\n",
        "    cuComplex(float a, float b):r(a),i(b){}\n",
        "    float magnitude2(void){return r*r+i*i;}\n",
        "    cuComplex operator*(const cuComplex &a){ return cuComplex(r*a.r-i*a.i,i*a.r+r*a.i); }\n",
        "    cuComplex operator+(const cuComplex &a){ return cuComplex(r+a.r,i+a.i); }\n",
        "};\n",
        "    int julia(int x, int y){\n",
        "    const float scale=1.5;\n",
        "    float jx=scale*(float)(DIM/2-x)/(DIM/2);\n",
        "    float jy=scale*(float)(DIM/2-y)/(DIM/2);\n",
        "    cuComplex c(-0.8,0.156);\n",
        "    cuComplex a(jx,jy);\n",
        "    int i=0;\n",
        "    for(i=0;i<200;i++){\n",
        "        a=a*a+c;\n",
        "        if(a.magnitude2()>1000) return 0;\n",
        "    }\n",
        "    return 1;\n",
        "}\n",
        "    void kernel(unsigned char *ptr){\n",
        "        for(int y=0;y<DIM;y++){\n",
        "        for(int x=0;x<DIM;x++){\n",
        "            int offset=x+y*DIM;\n",
        "            int juliaValue=julia(x,y);\n",
        "            ptr[offset*4+0]=255*juliaValue;\n",
        "            ptr[offset*4+1]=0;\n",
        "            ptr[offset*4+2]=0;\n",
        "            ptr[offset*4+3]=255;\n",
        "          }\n",
        "        }\n",
        "    }\n",
        "  \n",
        "struct DataBlock{\n",
        "    unsigned char *dev_bitmap;\n",
        "};\n",
        "\n",
        "void wypisz_RGB_fraktal(unsigned char *ptr){\n",
        "    for(int y=0;y<DIM;y++){\n",
        "        for(int x=0;x<DIM;x++){\n",
        "            int offset=x+y*DIM;\n",
        "            printf(\"\\n%d, %d, %d, %d\", ptr[offset*4+0], ptr[offset*4+1], ptr[offset*4+2], ptr[offset*4+3]);\n",
        "        }\n",
        "    }\n",
        "}\n",
        "void save_to_file(unsigned char *ptr){\n",
        "    FILE *fp=fopen(\"Fraktal_CPU.jpg\",\"w\");\n",
        "    fprintf(fp,\"P3\\n%d %d\\n255\\n\", DIM, DIM);\n",
        "     for(int y=0;y<DIM;y++){\n",
        "        for(int x=0;x<DIM;x++){\n",
        "            int offset=x+y*DIM;\n",
        "            fprintf(fp,\"\\n%d %d %d\", ptr[offset*4+0], ptr[offset*4+1], ptr[offset*4+2]);\n",
        "        }\n",
        "}\n",
        "fclose(fp);\n",
        "}\n",
        "int main(void){\n",
        "    clock_t start, end;\n",
        "    double execution_time2_2;\n",
        "    FILE *fp = fopen(\"execution_time2_2.txt\", \"w\");\n",
        "    for (int i = 0; i < 10; i++) {\n",
        "        start = clock();\n",
        "        DataBlock data;\n",
        "        unsigned char *bitmap = (unsigned char*)malloc(DIM*DIM*4*sizeof(unsigned char));\n",
        "        int image_size = DIM*DIM*4;\n",
        "        kernel(bitmap);\n",
        "        save_to_file (bitmap);\n",
        "        end = clock();\n",
        "        execution_time2_2 = ((double)(end - start))/CLOCKS_PER_SEC;\n",
        "        fprintf(fp, \"%f\\n\", execution_time2_2);\n",
        "    }\n",
        "    fclose(fp);\n",
        "    return 0;\n",
        "}"
      ],
      "metadata": {
        "colab": {
          "base_uri": "https://localhost:8080/"
        },
        "id": "qr3TJD-CfaSV",
        "outputId": "96918303-1cfe-4633-f48a-62e47ac282ad"
      },
      "execution_count": 96,
      "outputs": [
        {
          "output_type": "stream",
          "name": "stdout",
          "text": [
            "\n"
          ]
        }
      ]
    },
    {
      "cell_type": "code",
      "source": [
        "!apt-get install gnuplot\n",
        "!pip install matplotlib"
      ],
      "metadata": {
        "id": "inicj1BMLLj8"
      },
      "execution_count": null,
      "outputs": []
    },
    {
      "cell_type": "code",
      "source": [
        "import matplotlib.pyplot as plt\n",
        "\n",
        "# Read data from files\n",
        "execution_time1 = []\n",
        "with open(\"execution_time1.txt\", \"r\") as file:\n",
        "    for line in file:\n",
        "        execution_time1.append(float(line.strip()))\n",
        "\n",
        "execution_time2 = []\n",
        "with open(\"execution_time1_1.txt\", \"r\") as file:\n",
        "    for line in file:\n",
        "        execution_time2.append(float(line.strip()))\n",
        "\n",
        "# Create a line plot\n",
        "plt.plot(execution_time1, label=\"Execution Time 1 DIM 1000\")\n",
        "plt.plot(execution_time2, label=\"Execution Time 1_1 DIM 500\")\n",
        "plt.xlabel(\"Sample Number\")\n",
        "plt.ylabel(\"Execution Time (s)\")\n",
        "plt.legend()\n",
        "plt.show()\n"
      ],
      "metadata": {
        "colab": {
          "base_uri": "https://localhost:8080/",
          "height": 279
        },
        "id": "LWmNw94GTTnh",
        "outputId": "eb28b341-6bd9-4dc3-903a-cd566094844c"
      },
      "execution_count": 97,
      "outputs": [
        {
          "output_type": "display_data",
          "data": {
            "text/plain": [
              "<Figure size 432x288 with 1 Axes>"
            ],
            "image/png": "[encoded data removed]"
          },
          "metadata": {
            "needs_background": "light"
          }
        }
      ]
    },
    {
      "cell_type": "code",
      "source": [
        "import matplotlib.pyplot as plt\n",
        "\n",
        "# Read data from files\n",
        "execution_time1 = []\n",
        "with open(\"execution_time2.txt\", \"r\") as file:\n",
        "    for line in file:\n",
        "        execution_time1.append(float(line.strip()))\n",
        "\n",
        "execution_time2 = []\n",
        "with open(\"execution_time2_2.txt\", \"r\") as file:\n",
        "    for line in file:\n",
        "        execution_time2.append(float(line.strip()))\n",
        "\n",
        "# Create a line plot\n",
        "plt.plot(execution_time1, label=\"Execution Time 2 DIM 1000\")\n",
        "plt.plot(execution_time2, label=\"Execution Time 2_2 DIM 500\")\n",
        "plt.xlabel(\"Sample Number\")\n",
        "plt.ylabel(\"Execution Time (s)\")\n",
        "plt.legend()\n",
        "plt.show()\n"
      ],
      "metadata": {
        "colab": {
          "base_uri": "https://localhost:8080/",
          "height": 279
        },
        "id": "1HRcygH4fwVS",
        "outputId": "0769163c-490e-4743-ea76-7b9e1ebf3884"
      },
      "execution_count": 98,
      "outputs": [
        {
          "output_type": "display_data",
          "data": {
            "text/plain": [
              "<Figure size 432x288 with 1 Axes>"
            ],
            "image/png": "[encoded data removed]"
          },
          "metadata": {
            "needs_background": "light"
          }
        }
      ]
    }
  ]
}