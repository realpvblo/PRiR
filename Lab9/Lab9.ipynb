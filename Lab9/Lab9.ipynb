{
  "nbformat": 4,
  "nbformat_minor": 0,
  "metadata": {
    "colab": {
      "provenance": []
    },
    "kernelspec": {
      "name": "python3",
      "display_name": "Python 3"
    },
    "language_info": {
      "name": "python"
    }
  },
  "cells": [
    {
      "cell_type": "code",
      "source": [
        "!nvcc --version\n",
        "!pip install git+https://github.com/andreinechaev/nvcc4jupyter.git\n",
        "%load_ext nvcc_plugin"
      ],
      "metadata": {
        "id": "BfTc3JFnfgfv"
      },
      "execution_count": null,
      "outputs": []
    },
    {
      "cell_type": "markdown",
      "source": [
        "**GPU**"
      ],
      "metadata": {
        "id": "JNl-830Jl9kl"
      }
    },
    {
      "cell_type": "code",
      "execution_count": 20,
      "metadata": {
        "colab": {
          "base_uri": "https://localhost:8080/"
        },
        "id": "_wcO3BTlEpUO",
        "outputId": "bc3f773a-348e-49af-9318-2e5e900d4e87"
      },
      "outputs": [
        {
          "output_type": "stream",
          "name": "stdout",
          "text": [
            "Time: 0.000000 ms\n",
            "\n"
          ]
        }
      ],
      "source": [
        "%%cu\n",
        "#include <stdio.h>\n",
        "#define DIM 4096\n",
        "#define rnd( x ) (x * rand() / RAND_MAX)\n",
        "#define INF     2e10f\n",
        "\n",
        "struct Sphere {\n",
        "    float   r,b,g;\n",
        "    float   radius;\n",
        "    float   x,y,z;\n",
        "    __device__ float hit( float ox, float oy, float *n ) {\n",
        "        float dx = ox - x;\n",
        "        float dy = oy - y;\n",
        "        if (dx*dx + dy*dy < radius*radius) {\n",
        "            float dz = sqrtf( radius*radius - dx*dx - dy*dy );\n",
        "            *n = dz / sqrtf( radius * radius );\n",
        "            return dz + z;\n",
        "        }\n",
        "        return -INF;\n",
        "    }\n",
        "};\n",
        "#define SPHERES 20\n",
        "\n",
        "\n",
        "__global__ void kernel( Sphere *s, unsigned char *ptr ) {\n",
        "    // map from threadIdx/BlockIdx to pixel position\n",
        "    int x = threadIdx.x + blockIdx.x * blockDim.x;\n",
        "    int y = threadIdx.y + blockIdx.y * blockDim.y;\n",
        "    int offset = x + y * blockDim.x * gridDim.x;\n",
        "    float   ox = (x - DIM/2);\n",
        "    float   oy = (y - DIM/2);\n",
        "\n",
        "    float   r=0, g=0, b=0;\n",
        "    float   maxz = -INF;\n",
        "    for(int i=0; i<SPHERES; i++) {\n",
        "        float   n;\n",
        "        float   t = s[i].hit( ox, oy, &n );\n",
        "        if (t > maxz) {\n",
        "            float fscale = n;\n",
        "            r = s[i].r * fscale;\n",
        "            g = s[i].g * fscale;\n",
        "            b = s[i].b * fscale;\n",
        "            maxz = t;\n",
        "        }\n",
        "    } \n",
        "\n",
        "    ptr[offset*4 + 0] = (int)(r * 255);\n",
        "    ptr[offset*4 + 1] = (int)(g * 255);\n",
        "    ptr[offset*4 + 2] = (int)(b * 255);\n",
        "    ptr[offset*4 + 3] = 255;\n",
        "}\n",
        "\n",
        "struct DataBlock{\n",
        "    unsigned char *dev_bitmap;\n",
        "};\n",
        "\n",
        "void save_to_file(unsigned char *ptr){\n",
        "  FILE *fp=fopen(\"RayGpu.ppm\",\"w\");\n",
        "  fprintf(fp,\"P3\\n%d %d\\n255\\n\", DIM, DIM);\n",
        "  for(int y=0;y<DIM;y++){\n",
        "    for(int x=0;x<DIM;x++){\n",
        "      int offset=x+y*DIM;\n",
        "      fprintf(fp,\"\\n%d %d %d\", ptr[offset*4+0], ptr[offset*4+1], ptr[offset*4+2]);\n",
        "    }\n",
        "  }\n",
        "  fclose(fp);\n",
        "}\n",
        "\n",
        "\n",
        "int main(void) {\n",
        "  FILE *fp = fopen(\"execution_time_GPU_DIM4096.txt\", \"w\");\n",
        "  // capture the start time \n",
        "  // capture the start time \n",
        "  cudaEvent_t start, stop;\n",
        "  cudaEventCreate( &start );\n",
        "  cudaEventCreate( &stop);\n",
        "  \n",
        "  DataBlock data;\n",
        "  unsigned char *bitmap = (unsigned char*)malloc(DIM* DIM*4* sizeof(unsigned char));\n",
        "  int image_size = DIM* DIM*4;\n",
        "  unsigned char *dev_bitmap;\n",
        "\n",
        "  cudaMalloc((void**)&dev_bitmap, image_size); \n",
        "  data.dev_bitmap=dev_bitmap;\n",
        "  Sphere *s;\n",
        "\n",
        "\n",
        "cudaMalloc((void**)&s, sizeof(Sphere)* SPHERES );\n",
        "\n",
        "\n",
        "Sphere *temp_s = (Sphere*)malloc(sizeof(Sphere)* SPHERES );\n",
        "\n",
        "for (int i=0; i<SPHERES; i++) {\n",
        "     temp_s[i].r = rnd( 1.0f);\n",
        "     temp_s[i].g= rnd( 1.0f);\n",
        "     temp_s[1].b= rnd( 1.0f);\n",
        "     temp_s[i].x =rnd( 1000.0f)- 500;\n",
        "     temp_s[i].y =rnd( 1000.0f) - 500;\n",
        "     temp_s[1].z = rnd( 1000.0f) - 500;\n",
        "     temp_s[i].radius = rnd( 100.0f) + 20;\n",
        "     cudaMemcpy( s, temp_s, sizeof(Sphere)* SPHERES, cudaMemcpyHostToDevice);\n",
        "     free( temp_s);\n",
        "}\n",
        "\n",
        "dim3 block(16, 16);\n",
        "dim3 grid((DIM + block.x - 1) / block.x, (DIM + block.y - 1) / block.y);\n",
        "\n",
        "cudaEventRecord( start, 0);\n",
        "\n",
        "kernel<<<grid, block>>>(s, dev_bitmap);\n",
        "\n",
        "cudaEventRecord( stop, 0);\n",
        "cudaEventSynchronize(stop);\n",
        "float elapsedTime;\n",
        "cudaEventElapsedTime(&elapsedTime, start, stop);\n",
        "printf(\"Time: %f ms\\n\", elapsedTime);\n",
        "\n",
        "cudaMemcpy( bitmap, dev_bitmap, image_size, cudaMemcpyDeviceToHost);\n",
        "save_to_file(bitmap);\n",
        "fprintf(fp, \"%f\\n\", elapsedTime);\n",
        "    fclose(fp);\n",
        "}\n",
        "\n"
      ]
    },
    {
      "cell_type": "code",
      "source": [
        "# !pip install pillow\n",
        "# def save_to_file(ptr):\n",
        "#     img = Image.fromarray(ptr, 'RGB')\n",
        "#     img.save('RayGpu.jpg')"
      ],
      "metadata": {
        "colab": {
          "base_uri": "https://localhost:8080/"
        },
        "id": "TH2viRQPfd26",
        "outputId": "9d63464a-eaef-4bfd-edf7-a1f39153a767"
      },
      "execution_count": null,
      "outputs": [
        {
          "output_type": "stream",
          "name": "stdout",
          "text": [
            "Looking in indexes: https://pypi.org/simple, https://us-python.pkg.dev/colab-wheels/public/simple/\n",
            "Requirement already satisfied: pillow in /usr/local/lib/python3.8/dist-packages (7.1.2)\n"
          ]
        }
      ]
    },
    {
      "cell_type": "code",
      "source": [
        "# from PIL import Image\n",
        "\n",
        "# im = Image.open(\"/content/RayGpu.ppm\")\n",
        "# im.save(\"RayGpu.jpg\")"
      ],
      "metadata": {
        "id": "Dls1ymq2kgeC"
      },
      "execution_count": null,
      "outputs": []
    },
    {
      "cell_type": "code",
      "source": [
        "from google.colab import files\n",
        "import cv2 as cv \n",
        "\n",
        "with open('RayGpu.ppm', \"r\") as file1:\n",
        "    FileContent = file1.read()\n",
        "    print(FileContent)\n",
        "\n",
        "i = cv.imread('RayGpu.ppm')\n",
        "cv.imwrite('RayGpu.jpg',i)"
      ],
      "metadata": {
        "id": "OkY5yHRcm59E"
      },
      "execution_count": null,
      "outputs": []
    },
    {
      "cell_type": "code",
      "source": [
        "from google.colab import files\n",
        "uploaded = files.upload()\n",
        "\n",
        "from PIL import Image\n",
        "im = Image.open(\"your_ppm_file.ppm\")\n",
        "im.save(\"your_ppm_file.jpg\", \"JPEG\")"
      ],
      "metadata": {
        "id": "20n6MLJ-gqe-"
      },
      "execution_count": null,
      "outputs": []
    },
    {
      "cell_type": "markdown",
      "source": [
        "**CPU**"
      ],
      "metadata": {
        "id": "uRX2ifoEl5uu"
      }
    },
    {
      "cell_type": "code",
      "source": [
        "%%cu\n",
        "#include <stdio.h>\n",
        "#include <stdlib.h>\n",
        "#define DIM 4096\n",
        "#define rnd( x ) (x * rand() / RAND_MAX)\n",
        "#define INF     2e10f\n",
        "\n",
        "struct Sphere {\n",
        "    float   r,b,g;\n",
        "    float   radius;\n",
        "    float   x,y,z;\n",
        "    float hit( float ox, float oy, float *n ) {\n",
        "        float dx = ox - x;\n",
        "        float dy = oy - y;\n",
        "        if (dx*dx + dy*dy < radius*radius) {\n",
        "            float dz = sqrtf( radius*radius - dx*dx - dy*dy );\n",
        "            *n = dz / sqrtf( radius * radius );\n",
        "            return dz + z;\n",
        "        }\n",
        "        return -INF;\n",
        "    }\n",
        "};\n",
        "#define SPHERES 20\n",
        "\n",
        "void kernel( Sphere *s, unsigned char *ptr ) {\n",
        "    for(int x=0;x<DIM;x++){\n",
        "      for(int y=0;y<DIM;y++){\n",
        "        int offset=x+y*DIM;\n",
        "        float   ox = (x - DIM/2);\n",
        "        float   oy = (y - DIM/2);\n",
        "\n",
        "        float   r=0, g=0, b=0;\n",
        "        float   maxz = -INF;\n",
        "        for(int i=0; i<SPHERES; i++) {\n",
        "            float   n;\n",
        "            float   t = s[i].hit( ox, oy, &n );\n",
        "            if (t > maxz) {\n",
        "                float fscale = n;\n",
        "                r = s[i].r * fscale;\n",
        "                g = s[i].g * fscale;\n",
        "                b = s[i].b * fscale;\n",
        "                maxz = t;\n",
        "            }\n",
        "        } \n",
        "\n",
        "        ptr[offset*4 + 0] = (int)(r * 255);\n",
        "        ptr[offset*4 + 1] = (int)(g * 255);\n",
        "        ptr[offset*4 + 2] = (int)(b * 255);\n",
        "        ptr[offset*4 + 3] = 255;\n",
        "      }\n",
        "    }\n",
        "}\n",
        "\n",
        "void save_to_file(unsigned char *ptr){\n",
        "  FILE *fp=fopen(\"RayCpu.ppm\",\"w\");\n",
        "  fprintf(fp,\"P3\\n%d %d\\n255\\n\", DIM, DIM);\n",
        "  for(int y=0;y<DIM;y++){\n",
        "    for(int x=0;x<DIM;x++){\n",
        "      int offset=x+y*DIM;\n",
        "      fprintf(fp,\"\\n%d %d %d\", ptr[offset*4+0], ptr[offset*4+1], ptr[offset*4+2]);\n",
        "    }\n",
        "  }\n",
        "  fclose(fp);\n",
        "}\n",
        "\n",
        "int main(void) {\n",
        "    FILE *fp = fopen(\"execution_time_CPU_DIM4096.txt\", \"w\");\n",
        "    // capture the start time \n",
        "    clock_t start = clock();\n",
        "\n",
        "    unsigned char *bitmap = (unsigned char*)malloc(DIM* DIM*4* sizeof(unsigned char));\n",
        "    Sphere *s = (Sphere*)malloc(sizeof(Sphere)* SPHERES );\n",
        "\n",
        "    srand(time(NULL));\n",
        "    for (int i=0; i<SPHERES; i++) {\n",
        "     s[i].r = rnd( 1.0f);\n",
        "     s[i].g= rnd( 1.0f);\n",
        "     s[i].b= rnd( 1.0f);\n",
        "     s[i].x =rnd( 1000.0f)- 500;\n",
        "     s[i].y =rnd( 1000.0f)- 500;\n",
        "     s[i].z =rnd( 1000.0f)- 500;\n",
        "     s[i].radius = rnd( 200.0f) + 20;\n",
        "    }\n",
        "\n",
        "    kernel(s, bitmap);\n",
        "    save_to_file(bitmap);\n",
        "    clock_t end = clock();\n",
        "    double elapsed = (double)(end - start) / CLOCKS_PER_SEC;\n",
        "    printf(\"elapsed time: %f sec\\n\", elapsed);\n",
        "    fprintf(fp, \"%f\\n\", elapsed);\n",
        "    fclose(fp);\n",
        "}\n",
        "   \n"
      ],
      "metadata": {
        "colab": {
          "base_uri": "https://localhost:8080/"
        },
        "id": "pjNAb0iLkLdv",
        "outputId": "9d70c55b-2230-44fe-8cd7-8fcdf7bd1be4"
      },
      "execution_count": 21,
      "outputs": [
        {
          "output_type": "stream",
          "name": "stdout",
          "text": [
            "elapsed time: 7.059020 sec\n",
            "\n"
          ]
        }
      ]
    },
    {
      "cell_type": "markdown",
      "source": [
        "**PLOT**"
      ],
      "metadata": {
        "id": "z8G2szBLqNp3"
      }
    },
    {
      "cell_type": "code",
      "source": [
        "!apt-get install gnuplot\n",
        "!pip install matplotlib"
      ],
      "metadata": {
        "id": "2q9nsJtCqOzy"
      },
      "execution_count": null,
      "outputs": []
    },
    {
      "cell_type": "markdown",
      "source": [
        "DIM 2048"
      ],
      "metadata": {
        "id": "xBy9cXqIr1qF"
      }
    },
    {
      "cell_type": "code",
      "source": [
        "import matplotlib.pyplot as plt\n",
        "\n",
        "# Read data from files\n",
        "execution_time1 = [0, ]\n",
        "with open(\"execution_time_CPU_DIM2048.txt\", \"r\") as file:\n",
        "    for line in file:\n",
        "        execution_time1.append(float(line.strip()))\n",
        "\n",
        "execution_time2 = [0, ]\n",
        "with open(\"execution_time_GPU_DIM2048.txt\", \"r\") as file:\n",
        "    for line in file:\n",
        "        execution_time2.append(float(line.strip()))\n",
        "\n",
        "# Create a line plot\n",
        "plt.plot(execution_time1, label=\"execution_time_CPU_DIM2048\")\n",
        "plt.plot(execution_time2, label=\"execution_time_GPU_DIM2048\")\n",
        "plt.xlabel(\"Sample Number\")\n",
        "plt.ylabel(\"Execution Time (s)\")\n",
        "plt.legend()\n",
        "plt.show()\n",
        "\n"
      ],
      "metadata": {
        "colab": {
          "base_uri": "https://localhost:8080/",
          "height": 279
        },
        "id": "hbnYGPuDqS25",
        "outputId": "7ef7fde7-9b4c-427c-e2c2-3049737c53c2"
      },
      "execution_count": 19,
      "outputs": [
        {
          "output_type": "display_data",
          "data": {
            "text/plain": [
              "<Figure size 432x288 with 1 Axes>"
            ],
            "image/png": "[encoded data removed]"
          },
          "metadata": {
            "needs_background": "light"
          }
        }
      ]
    },
    {
      "cell_type": "markdown",
      "source": [
        "DIM 4096"
      ],
      "metadata": {
        "id": "pRNdlQCQr6hL"
      }
    },
    {
      "cell_type": "code",
      "source": [
        "import matplotlib.pyplot as plt\n",
        "\n",
        "# Read data from files\n",
        "execution_time1 = [0, ]\n",
        "with open(\"execution_time_CPU_DIM4096.txt\", \"r\") as file:\n",
        "    for line in file:\n",
        "        execution_time1.append(float(line.strip()))\n",
        "\n",
        "execution_time2 = [0, ]\n",
        "with open(\"execution_time_GPU_DIM4096.txt\", \"r\") as file:\n",
        "    for line in file:\n",
        "        execution_time2.append(float(line.strip()))\n",
        "\n",
        "# Create a line plot\n",
        "plt.plot(execution_time1, label=\"execution_time_CPU_DIM4096\")\n",
        "plt.plot(execution_time2, label=\"execution_time_GPU_DIM4096\")\n",
        "plt.xlabel(\"Sample Number\")\n",
        "plt.ylabel(\"Execution Time (s)\")\n",
        "plt.legend()\n",
        "plt.show()\n",
        "\n"
      ],
      "metadata": {
        "colab": {
          "base_uri": "https://localhost:8080/",
          "height": 279
        },
        "id": "l1vqPLfbsAKz",
        "outputId": "136d8ff7-d10e-49f2-ac87-8f1ed82d934c"
      },
      "execution_count": 22,
      "outputs": [
        {
          "output_type": "display_data",
          "data": {
            "text/plain": [
              "<Figure size 432x288 with 1 Axes>"
            ],
            "image/png": "[encoded data removed]"
          },
          "metadata": {
            "needs_background": "light"
          }
        }
      ]
    }
  ]
}